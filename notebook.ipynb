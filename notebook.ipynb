{
  "cells": [
    {
      "cell_type": "code",
      "execution_count": 152,
      "metadata": {
        "id": "dKYgqNImS6lN"
      },
      "outputs": [],
      "source": [
        "import pandas as pd\n",
        "import matplotlib.pyplot as plt\n",
        "import numpy as np\n",
        "from scipy.stats import chi2_contingency\n",
        "from scipy.stats import mannwhitneyu\n",
        "from scipy.stats import kruskal\n",
        "import statsmodels.api as sm\n"
      ]
    },
    {
      "cell_type": "markdown",
      "metadata": {
        "id": "LWSgPa9D8cby"
      },
      "source": [
        "# Change in Data Explanation"
      ]
    },
    {
      "cell_type": "markdown",
      "metadata": {
        "id": "L4i1n6yB-AfH"
      },
      "source": [
        "**Summary:** I changed my data and project slightly because I found working with multiple datasets that I couldn't  combine to be too difficult, and I don't really have the time in my schedule to do all of the test and work for that, especially since I'm doing this solo. All I did was remove the datasets so that I only have one. This dataset contains a lot of information about mass shootings throughout the decades. Since I only have this one dataset I also changed my project goal from analyzing differences in gun violence between the US and other countries to analyzing mass shootings in just the US. I will be trying to spot trends and looking for possible warning signs through the trends I spot."
      ]
    },
    {
      "cell_type": "markdown",
      "metadata": {
        "id": "6-ZcJL2JvmCs"
      },
      "source": [
        "# US Mass Shooting Data\n",
        "\n",
        "**Importing, Parsing & Organizing**\n",
        "\n"
      ]
    },
    {
      "cell_type": "code",
      "execution_count": 120,
      "metadata": {
        "colab": {
          "base_uri": "https://localhost:8080/",
          "height": 808
        },
        "id": "rgYm0Ch5VZk4",
        "outputId": "dd8c2e13-2dcf-4ffc-d119-33ec6a4bc7e1"
      },
      "outputs": [
        {
          "data": {
            "application/vnd.google.colaboratory.intrinsic+json": {
              "summary": "{\n  \"name\": \"us_mass_shootings\",\n  \"rows\": 323,\n  \"fields\": [\n    {\n      \"column\": \"Location\",\n      \"properties\": {\n        \"dtype\": \"category\",\n        \"num_unique_values\": 47,\n        \"samples\": [\n          \"New York\",\n          \"Connecticut\",\n          \"South Dakota\"\n        ],\n        \"semantic_type\": \"\",\n        \"description\": \"\"\n      }\n    },\n    {\n      \"column\": \"Date\",\n      \"properties\": {\n        \"dtype\": \"object\",\n        \"num_unique_values\": 290,\n        \"samples\": [\n          \"6/11/2015\",\n          \"9/14/1989\",\n          \"2/9/2016\"\n        ],\n        \"semantic_type\": \"\",\n        \"description\": \"\"\n      }\n    },\n    {\n      \"column\": \"Open/Close Location\",\n      \"properties\": {\n        \"dtype\": \"category\",\n        \"num_unique_values\": 4,\n        \"samples\": [\n          \"Open\",\n          \"Open+CLose\",\n          \"Close\"\n        ],\n        \"semantic_type\": \"\",\n        \"description\": \"\"\n      }\n    },\n    {\n      \"column\": \"Target\",\n      \"properties\": {\n        \"dtype\": \"category\",\n        \"num_unique_values\": 10,\n        \"samples\": [\n          \"Race/Religion\",\n          \"Relationship (non-familial)\",\n          \"Other\"\n        ],\n        \"semantic_type\": \"\",\n        \"description\": \"\"\n      }\n    },\n    {\n      \"column\": \"Cause\",\n      \"properties\": {\n        \"dtype\": \"category\",\n        \"num_unique_values\": 12,\n        \"samples\": [\n          \"drunk\",\n          \"religious radicalism\",\n          \"unknown\"\n        ],\n        \"semantic_type\": \"\",\n        \"description\": \"\"\n      }\n    },\n    {\n      \"column\": \"Total Victims\",\n      \"properties\": {\n        \"dtype\": \"number\",\n        \"std\": 33,\n        \"min\": 3,\n        \"max\": 585,\n        \"num_unique_values\": 35,\n        \"samples\": [\n          21,\n          12,\n          55\n        ],\n        \"semantic_type\": \"\",\n        \"description\": \"\"\n      }\n    },\n    {\n      \"column\": \"Policeman Killed\",\n      \"properties\": {\n        \"dtype\": \"number\",\n        \"std\": 0.6102944943908636,\n        \"min\": 0.0,\n        \"max\": 5.0,\n        \"num_unique_values\": 6,\n        \"samples\": [\n          0.0,\n          1.0,\n          4.0\n        ],\n        \"semantic_type\": \"\",\n        \"description\": \"\"\n      }\n    },\n    {\n      \"column\": \"Mental Health Issues\",\n      \"properties\": {\n        \"dtype\": \"category\",\n        \"num_unique_values\": 5,\n        \"samples\": [\n          \"Unclear\",\n          \"unknown\",\n          \"Yes\"\n        ],\n        \"semantic_type\": \"\",\n        \"description\": \"\"\n      }\n    },\n    {\n      \"column\": \"Race\",\n      \"properties\": {\n        \"dtype\": \"category\",\n        \"num_unique_values\": 17,\n        \"samples\": [\n          \"White\",\n          \"Black\",\n          \"Unknown\"\n        ],\n        \"semantic_type\": \"\",\n        \"description\": \"\"\n      }\n    },\n    {\n      \"column\": \"Gender\",\n      \"properties\": {\n        \"dtype\": \"category\",\n        \"num_unique_values\": 6,\n        \"samples\": [\n          \"M\",\n          \"Unknown\",\n          \"Female\"\n        ],\n        \"semantic_type\": \"\",\n        \"description\": \"\"\n      }\n    }\n  ]\n}",
              "type": "dataframe",
              "variable_name": "us_mass_shootings"
            },
            "text/html": [
              "\n",
              "  <div id=\"df-6eb1f990-599f-4d4d-b6b4-551978c8c92f\" class=\"colab-df-container\">\n",
              "    <div>\n",
              "<style scoped>\n",
              "    .dataframe tbody tr th:only-of-type {\n",
              "        vertical-align: middle;\n",
              "    }\n",
              "\n",
              "    .dataframe tbody tr th {\n",
              "        vertical-align: top;\n",
              "    }\n",
              "\n",
              "    .dataframe thead th {\n",
              "        text-align: right;\n",
              "    }\n",
              "</style>\n",
              "<table border=\"1\" class=\"dataframe\">\n",
              "  <thead>\n",
              "    <tr style=\"text-align: right;\">\n",
              "      <th></th>\n",
              "      <th>Location</th>\n",
              "      <th>Date</th>\n",
              "      <th>Open/Close Location</th>\n",
              "      <th>Target</th>\n",
              "      <th>Cause</th>\n",
              "      <th>Total Victims</th>\n",
              "      <th>Policeman Killed</th>\n",
              "      <th>Mental Health Issues</th>\n",
              "      <th>Race</th>\n",
              "      <th>Gender</th>\n",
              "    </tr>\n",
              "  </thead>\n",
              "  <tbody>\n",
              "    <tr>\n",
              "      <th>0</th>\n",
              "      <td>Texas</td>\n",
              "      <td>11/5/2017</td>\n",
              "      <td>Close</td>\n",
              "      <td>Random</td>\n",
              "      <td>unknown</td>\n",
              "      <td>46</td>\n",
              "      <td>0.0</td>\n",
              "      <td>No</td>\n",
              "      <td>White</td>\n",
              "      <td>M</td>\n",
              "    </tr>\n",
              "    <tr>\n",
              "      <th>1</th>\n",
              "      <td>Colorado</td>\n",
              "      <td>11/1/2017</td>\n",
              "      <td>Open</td>\n",
              "      <td>Random</td>\n",
              "      <td>unknown</td>\n",
              "      <td>3</td>\n",
              "      <td>0.0</td>\n",
              "      <td>No</td>\n",
              "      <td>White</td>\n",
              "      <td>M</td>\n",
              "    </tr>\n",
              "    <tr>\n",
              "      <th>2</th>\n",
              "      <td>Maryland</td>\n",
              "      <td>10/18/2017</td>\n",
              "      <td>Close</td>\n",
              "      <td>Relationship (non-familial)</td>\n",
              "      <td>unknown</td>\n",
              "      <td>6</td>\n",
              "      <td>0.0</td>\n",
              "      <td>No</td>\n",
              "      <td>Black</td>\n",
              "      <td>M</td>\n",
              "    </tr>\n",
              "    <tr>\n",
              "      <th>3</th>\n",
              "      <td>Nevada</td>\n",
              "      <td>10/1/2017</td>\n",
              "      <td>Open</td>\n",
              "      <td>Random</td>\n",
              "      <td>unknown</td>\n",
              "      <td>585</td>\n",
              "      <td>1.0</td>\n",
              "      <td>Unclear</td>\n",
              "      <td>White</td>\n",
              "      <td>M</td>\n",
              "    </tr>\n",
              "    <tr>\n",
              "      <th>4</th>\n",
              "      <td>California</td>\n",
              "      <td>6/14/2017</td>\n",
              "      <td>Close</td>\n",
              "      <td>Relationship (non-familial)</td>\n",
              "      <td>unknown</td>\n",
              "      <td>5</td>\n",
              "      <td>0.0</td>\n",
              "      <td>Yes</td>\n",
              "      <td>Asian</td>\n",
              "      <td>M</td>\n",
              "    </tr>\n",
              "    <tr>\n",
              "      <th>...</th>\n",
              "      <td>...</td>\n",
              "      <td>...</td>\n",
              "      <td>...</td>\n",
              "      <td>...</td>\n",
              "      <td>...</td>\n",
              "      <td>...</td>\n",
              "      <td>...</td>\n",
              "      <td>...</td>\n",
              "      <td>...</td>\n",
              "      <td>...</td>\n",
              "    </tr>\n",
              "    <tr>\n",
              "      <th>318</th>\n",
              "      <td>Illinois</td>\n",
              "      <td>1/17/1974</td>\n",
              "      <td>Close</td>\n",
              "      <td>School</td>\n",
              "      <td>anger</td>\n",
              "      <td>4</td>\n",
              "      <td>0.0</td>\n",
              "      <td>Yes</td>\n",
              "      <td>Unknown</td>\n",
              "      <td>Male</td>\n",
              "    </tr>\n",
              "    <tr>\n",
              "      <th>319</th>\n",
              "      <td>Louisiana</td>\n",
              "      <td>12/31/1972</td>\n",
              "      <td>NaN</td>\n",
              "      <td>Random</td>\n",
              "      <td>psycho</td>\n",
              "      <td>22</td>\n",
              "      <td>4.0</td>\n",
              "      <td>Yes</td>\n",
              "      <td>Black American or African American</td>\n",
              "      <td>Male</td>\n",
              "    </tr>\n",
              "    <tr>\n",
              "      <th>320</th>\n",
              "      <td>Washington</td>\n",
              "      <td>11/11/1971</td>\n",
              "      <td>Close</td>\n",
              "      <td>Random</td>\n",
              "      <td>terrorism</td>\n",
              "      <td>5</td>\n",
              "      <td>0.0</td>\n",
              "      <td>Yes</td>\n",
              "      <td>White American or European American</td>\n",
              "      <td>Male</td>\n",
              "    </tr>\n",
              "    <tr>\n",
              "      <th>321</th>\n",
              "      <td>Arizona</td>\n",
              "      <td>11/12/1966</td>\n",
              "      <td>Close</td>\n",
              "      <td>Random</td>\n",
              "      <td>terrorism</td>\n",
              "      <td>6</td>\n",
              "      <td>0.0</td>\n",
              "      <td>Yes</td>\n",
              "      <td>White American or European American</td>\n",
              "      <td>Male</td>\n",
              "    </tr>\n",
              "    <tr>\n",
              "      <th>322</th>\n",
              "      <td>Texas</td>\n",
              "      <td>8/1/1966</td>\n",
              "      <td>Close</td>\n",
              "      <td>Random</td>\n",
              "      <td>terrorism</td>\n",
              "      <td>48</td>\n",
              "      <td>0.0</td>\n",
              "      <td>Yes</td>\n",
              "      <td>White American or European American</td>\n",
              "      <td>Male</td>\n",
              "    </tr>\n",
              "  </tbody>\n",
              "</table>\n",
              "<p>323 rows × 10 columns</p>\n",
              "</div>\n",
              "    <div class=\"colab-df-buttons\">\n",
              "\n",
              "  <div class=\"colab-df-container\">\n",
              "    <button class=\"colab-df-convert\" onclick=\"convertToInteractive('df-6eb1f990-599f-4d4d-b6b4-551978c8c92f')\"\n",
              "            title=\"Convert this dataframe to an interactive table.\"\n",
              "            style=\"display:none;\">\n",
              "\n",
              "  <svg xmlns=\"http://www.w3.org/2000/svg\" height=\"24px\" viewBox=\"0 -960 960 960\">\n",
              "    <path d=\"M120-120v-720h720v720H120Zm60-500h600v-160H180v160Zm220 220h160v-160H400v160Zm0 220h160v-160H400v160ZM180-400h160v-160H180v160Zm440 0h160v-160H620v160ZM180-180h160v-160H180v160Zm440 0h160v-160H620v160Z\"/>\n",
              "  </svg>\n",
              "    </button>\n",
              "\n",
              "  <style>\n",
              "    .colab-df-container {\n",
              "      display:flex;\n",
              "      gap: 12px;\n",
              "    }\n",
              "\n",
              "    .colab-df-convert {\n",
              "      background-color: #E8F0FE;\n",
              "      border: none;\n",
              "      border-radius: 50%;\n",
              "      cursor: pointer;\n",
              "      display: none;\n",
              "      fill: #1967D2;\n",
              "      height: 32px;\n",
              "      padding: 0 0 0 0;\n",
              "      width: 32px;\n",
              "    }\n",
              "\n",
              "    .colab-df-convert:hover {\n",
              "      background-color: #E2EBFA;\n",
              "      box-shadow: 0px 1px 2px rgba(60, 64, 67, 0.3), 0px 1px 3px 1px rgba(60, 64, 67, 0.15);\n",
              "      fill: #174EA6;\n",
              "    }\n",
              "\n",
              "    .colab-df-buttons div {\n",
              "      margin-bottom: 4px;\n",
              "    }\n",
              "\n",
              "    [theme=dark] .colab-df-convert {\n",
              "      background-color: #3B4455;\n",
              "      fill: #D2E3FC;\n",
              "    }\n",
              "\n",
              "    [theme=dark] .colab-df-convert:hover {\n",
              "      background-color: #434B5C;\n",
              "      box-shadow: 0px 1px 3px 1px rgba(0, 0, 0, 0.15);\n",
              "      filter: drop-shadow(0px 1px 2px rgba(0, 0, 0, 0.3));\n",
              "      fill: #FFFFFF;\n",
              "    }\n",
              "  </style>\n",
              "\n",
              "    <script>\n",
              "      const buttonEl =\n",
              "        document.querySelector('#df-6eb1f990-599f-4d4d-b6b4-551978c8c92f button.colab-df-convert');\n",
              "      buttonEl.style.display =\n",
              "        google.colab.kernel.accessAllowed ? 'block' : 'none';\n",
              "\n",
              "      async function convertToInteractive(key) {\n",
              "        const element = document.querySelector('#df-6eb1f990-599f-4d4d-b6b4-551978c8c92f');\n",
              "        const dataTable =\n",
              "          await google.colab.kernel.invokeFunction('convertToInteractive',\n",
              "                                                    [key], {});\n",
              "        if (!dataTable) return;\n",
              "\n",
              "        const docLinkHtml = 'Like what you see? Visit the ' +\n",
              "          '<a target=\"_blank\" href=https://colab.research.google.com/notebooks/data_table.ipynb>data table notebook</a>'\n",
              "          + ' to learn more about interactive tables.';\n",
              "        element.innerHTML = '';\n",
              "        dataTable['output_type'] = 'display_data';\n",
              "        await google.colab.output.renderOutput(dataTable, element);\n",
              "        const docLink = document.createElement('div');\n",
              "        docLink.innerHTML = docLinkHtml;\n",
              "        element.appendChild(docLink);\n",
              "      }\n",
              "    </script>\n",
              "  </div>\n",
              "\n",
              "\n",
              "<div id=\"df-120ce40e-172b-421b-b2d3-6fb805a0d95b\">\n",
              "  <button class=\"colab-df-quickchart\" onclick=\"quickchart('df-120ce40e-172b-421b-b2d3-6fb805a0d95b')\"\n",
              "            title=\"Suggest charts\"\n",
              "            style=\"display:none;\">\n",
              "\n",
              "<svg xmlns=\"http://www.w3.org/2000/svg\" height=\"24px\"viewBox=\"0 0 24 24\"\n",
              "     width=\"24px\">\n",
              "    <g>\n",
              "        <path d=\"M19 3H5c-1.1 0-2 .9-2 2v14c0 1.1.9 2 2 2h14c1.1 0 2-.9 2-2V5c0-1.1-.9-2-2-2zM9 17H7v-7h2v7zm4 0h-2V7h2v10zm4 0h-2v-4h2v4z\"/>\n",
              "    </g>\n",
              "</svg>\n",
              "  </button>\n",
              "\n",
              "<style>\n",
              "  .colab-df-quickchart {\n",
              "      --bg-color: #E8F0FE;\n",
              "      --fill-color: #1967D2;\n",
              "      --hover-bg-color: #E2EBFA;\n",
              "      --hover-fill-color: #174EA6;\n",
              "      --disabled-fill-color: #AAA;\n",
              "      --disabled-bg-color: #DDD;\n",
              "  }\n",
              "\n",
              "  [theme=dark] .colab-df-quickchart {\n",
              "      --bg-color: #3B4455;\n",
              "      --fill-color: #D2E3FC;\n",
              "      --hover-bg-color: #434B5C;\n",
              "      --hover-fill-color: #FFFFFF;\n",
              "      --disabled-bg-color: #3B4455;\n",
              "      --disabled-fill-color: #666;\n",
              "  }\n",
              "\n",
              "  .colab-df-quickchart {\n",
              "    background-color: var(--bg-color);\n",
              "    border: none;\n",
              "    border-radius: 50%;\n",
              "    cursor: pointer;\n",
              "    display: none;\n",
              "    fill: var(--fill-color);\n",
              "    height: 32px;\n",
              "    padding: 0;\n",
              "    width: 32px;\n",
              "  }\n",
              "\n",
              "  .colab-df-quickchart:hover {\n",
              "    background-color: var(--hover-bg-color);\n",
              "    box-shadow: 0 1px 2px rgba(60, 64, 67, 0.3), 0 1px 3px 1px rgba(60, 64, 67, 0.15);\n",
              "    fill: var(--button-hover-fill-color);\n",
              "  }\n",
              "\n",
              "  .colab-df-quickchart-complete:disabled,\n",
              "  .colab-df-quickchart-complete:disabled:hover {\n",
              "    background-color: var(--disabled-bg-color);\n",
              "    fill: var(--disabled-fill-color);\n",
              "    box-shadow: none;\n",
              "  }\n",
              "\n",
              "  .colab-df-spinner {\n",
              "    border: 2px solid var(--fill-color);\n",
              "    border-color: transparent;\n",
              "    border-bottom-color: var(--fill-color);\n",
              "    animation:\n",
              "      spin 1s steps(1) infinite;\n",
              "  }\n",
              "\n",
              "  @keyframes spin {\n",
              "    0% {\n",
              "      border-color: transparent;\n",
              "      border-bottom-color: var(--fill-color);\n",
              "      border-left-color: var(--fill-color);\n",
              "    }\n",
              "    20% {\n",
              "      border-color: transparent;\n",
              "      border-left-color: var(--fill-color);\n",
              "      border-top-color: var(--fill-color);\n",
              "    }\n",
              "    30% {\n",
              "      border-color: transparent;\n",
              "      border-left-color: var(--fill-color);\n",
              "      border-top-color: var(--fill-color);\n",
              "      border-right-color: var(--fill-color);\n",
              "    }\n",
              "    40% {\n",
              "      border-color: transparent;\n",
              "      border-right-color: var(--fill-color);\n",
              "      border-top-color: var(--fill-color);\n",
              "    }\n",
              "    60% {\n",
              "      border-color: transparent;\n",
              "      border-right-color: var(--fill-color);\n",
              "    }\n",
              "    80% {\n",
              "      border-color: transparent;\n",
              "      border-right-color: var(--fill-color);\n",
              "      border-bottom-color: var(--fill-color);\n",
              "    }\n",
              "    90% {\n",
              "      border-color: transparent;\n",
              "      border-bottom-color: var(--fill-color);\n",
              "    }\n",
              "  }\n",
              "</style>\n",
              "\n",
              "  <script>\n",
              "    async function quickchart(key) {\n",
              "      const quickchartButtonEl =\n",
              "        document.querySelector('#' + key + ' button');\n",
              "      quickchartButtonEl.disabled = true;  // To prevent multiple clicks.\n",
              "      quickchartButtonEl.classList.add('colab-df-spinner');\n",
              "      try {\n",
              "        const charts = await google.colab.kernel.invokeFunction(\n",
              "            'suggestCharts', [key], {});\n",
              "      } catch (error) {\n",
              "        console.error('Error during call to suggestCharts:', error);\n",
              "      }\n",
              "      quickchartButtonEl.classList.remove('colab-df-spinner');\n",
              "      quickchartButtonEl.classList.add('colab-df-quickchart-complete');\n",
              "    }\n",
              "    (() => {\n",
              "      let quickchartButtonEl =\n",
              "        document.querySelector('#df-120ce40e-172b-421b-b2d3-6fb805a0d95b button');\n",
              "      quickchartButtonEl.style.display =\n",
              "        google.colab.kernel.accessAllowed ? 'block' : 'none';\n",
              "    })();\n",
              "  </script>\n",
              "</div>\n",
              "    </div>\n",
              "  </div>\n"
            ],
            "text/plain": [
              "       Location        Date Open/Close Location                       Target  \\\n",
              "0         Texas   11/5/2017               Close                       Random   \n",
              "1      Colorado   11/1/2017                Open                       Random   \n",
              "2      Maryland  10/18/2017               Close  Relationship (non-familial)   \n",
              "3        Nevada   10/1/2017                Open                       Random   \n",
              "4    California   6/14/2017               Close  Relationship (non-familial)   \n",
              "..          ...         ...                 ...                          ...   \n",
              "318    Illinois   1/17/1974               Close                       School   \n",
              "319   Louisiana  12/31/1972                 NaN                       Random   \n",
              "320  Washington  11/11/1971               Close                       Random   \n",
              "321     Arizona  11/12/1966               Close                       Random   \n",
              "322       Texas    8/1/1966               Close                       Random   \n",
              "\n",
              "         Cause  Total Victims  Policeman Killed Mental Health Issues  \\\n",
              "0      unknown             46               0.0                   No   \n",
              "1      unknown              3               0.0                   No   \n",
              "2      unknown              6               0.0                   No   \n",
              "3      unknown            585               1.0              Unclear   \n",
              "4      unknown              5               0.0                  Yes   \n",
              "..         ...            ...               ...                  ...   \n",
              "318      anger              4               0.0                  Yes   \n",
              "319     psycho             22               4.0                  Yes   \n",
              "320  terrorism              5               0.0                  Yes   \n",
              "321  terrorism              6               0.0                  Yes   \n",
              "322  terrorism             48               0.0                  Yes   \n",
              "\n",
              "                                    Race Gender  \n",
              "0                                  White      M  \n",
              "1                                  White      M  \n",
              "2                                  Black      M  \n",
              "3                                  White      M  \n",
              "4                                  Asian      M  \n",
              "..                                   ...    ...  \n",
              "318                              Unknown   Male  \n",
              "319   Black American or African American   Male  \n",
              "320  White American or European American   Male  \n",
              "321  White American or European American   Male  \n",
              "322  White American or European American   Male  \n",
              "\n",
              "[323 rows x 10 columns]"
            ]
          },
          "execution_count": 120,
          "metadata": {},
          "output_type": "execute_result"
        }
      ],
      "source": [
        "mass_shootings_5 = pd.read_csv('Mass Shootings Dataset Ver 5.csv', encoding='cp1252')\n",
        "\n",
        "mass_shootings_5 = mass_shootings_5.drop(columns=['Title', 'S#', 'Incident Area', 'Summary', 'Fatalities', 'Injured', 'Age', 'Employeed (Y/N)', 'Employed at', 'Latitude', 'Longitude'])\n",
        "\n",
        "mass_shootings_5\n",
        "\n",
        "def remove_city(location):\n",
        "  if str(location) != 'nan':\n",
        "    splitted_loc = location.split()\n",
        "    if splitted_loc[-2] in ['New', 'North', 'Rhode', 'South', 'West']:\n",
        "      state = splitted_loc[-2] + ' ' + splitted_loc[-1]\n",
        "    else:\n",
        "      state = splitted_loc[-1]\n",
        "    return state\n",
        "\n",
        "def fix_target(target):\n",
        "  target = str(target).lower()\n",
        "\n",
        "  if target != 'nan':\n",
        "    if ('ex-' in target):\n",
        "      target = 'Ex-Person(s)'\n",
        "    elif (('teacher' in target) | ('student' in target) | ('teachers' in target) | ('students' in target) | ('school' in target)):\n",
        "      target = 'School'\n",
        "    elif ('child' in target):\n",
        "      target = 'Children'\n",
        "    elif (('congress' in target) | ('police' in target) | ('council' in target) | ('social worker' in target) | ('tsa' in target) | ('marine' in target)):\n",
        "      target = 'Government Employee(s)'\n",
        "    elif (('coworker' in target) | ('friend' in target) | ('neighbor' in target) | ('guest' in target) | ('employee' in target)):\n",
        "      target = 'Relationship (non-familial)'\n",
        "    elif ('family' in target):\n",
        "      target = 'Family'\n",
        "    elif ('random' in target):\n",
        "      target = 'Random'\n",
        "    elif ('women' in target):\n",
        "      target = 'Women'\n",
        "    elif (('black' in target) | ('white' in target) | ('sikhs' in target) | ('monk' in  target) | ('pray' in target)):\n",
        "      target = 'Race/Religion'\n",
        "    else:\n",
        "      target = 'Other'\n",
        "\n",
        "    return target\n",
        "\n",
        "def fix_cause(cause):\n",
        "  cause = str(cause).lower()\n",
        "\n",
        "  if ('frustration' == cause):\n",
        "    cause = 'anger'\n",
        "  elif ('nan' == cause):\n",
        "    cause = 'unknown'\n",
        "  elif (('domestic' in cause) | ('breakup' == cause)):\n",
        "    cause = 'domestic'\n",
        "  elif (('exam' in cause) | ('suspension' == cause)):\n",
        "    cause = 'school'\n",
        "\n",
        "  return cause\n",
        "\n",
        "mass_shootings_5['Location'] = mass_shootings_5['Location'].apply(remove_city) # remove city/county\n",
        "mass_shootings_5['Target'] = mass_shootings_5['Target'].apply(fix_target)\n",
        "mass_shootings_5['Cause'] = mass_shootings_5['Cause'].apply(fix_cause)\n",
        "\n",
        "states = {\n",
        "    'AK': 'Alaska','AL': 'Alabama','AR': 'Arkansas','AZ': 'Arizona','CA': 'California',\n",
        "    'CO': 'Colorado','CT': 'Connecticut','DC': 'District of Columbia','DE': 'Delaware','FL': 'Florida',\n",
        "    'GA': 'Georgia','HI': 'Hawaii','IA': 'Iowa','ID': 'Idaho','IL': 'Illinois',\n",
        "    'IN': 'Indiana','KS': 'Kansas','KY': 'Kentucky','LA': 'Louisiana','MA': 'Massachusetts',\n",
        "    'MD': 'Maryland','ME': 'Maine','MI': 'Michigan','MN': 'Minnesota','MO': 'Missouri',\n",
        "    'MS': 'Mississippi','MT': 'Montana','NC': 'North Carolina','ND': 'North Dakota','NE': 'Nebraska',\n",
        "    'NH': 'New Hampshire','NJ': 'New Jersey','NM': 'New Mexico','NV': 'Nevada','NY': 'New York',\n",
        "    'OH': 'Ohio','OK': 'Oklahoma','OR': 'Oregon','PA': 'Pennsylvania','RI': 'Rhode Island',\n",
        "    'SC': 'South Carolina','SD': 'South Dakota','TN': 'Tennessee','TX': 'Texas','UT': 'Utah',\n",
        "    'VA': 'Virginia','VT': 'Vermont','WA': 'Washington','WI': 'Wisconsin','WV': 'West Virginia',\n",
        "    'WY': 'Wyoming','PR': 'Puerto Rico','VI': 'Virigin Islands', 'D.C.': 'District of Columbia'\n",
        "    }\n",
        "\n",
        "mass_shootings_5['Location'] = mass_shootings_5['Location'].replace(states) # replace abbreviations\n",
        "us_mass_shootings = mass_shootings_5.rename(columns={'Total victims': 'Total Victims'}) # rename columns\n",
        "\n",
        "us_mass_shootings"
      ]
    },
    {
      "cell_type": "markdown",
      "metadata": {
        "id": "fM4GTlv0J04V"
      },
      "source": [
        "# Statistical Test #1\n",
        "\n",
        "**Chi-Squared**"
      ]
    },
    {
      "cell_type": "markdown",
      "metadata": {
        "id": "qYQdYNrkKv5I"
      },
      "source": [
        "I want to see if mental health has an effect on the target. In order to do this I will use a Chi-Squared Test since this data is categorical.\n",
        "\n",
        "First I will define the hypothesis:\n",
        "\n",
        "*   **HO:** Mental health has no effect on the target of a mass shooting.\n",
        "*   **HA:** Mental health does have an effect on the target of a mass shooting.\n",
        "\n",
        "> Now I will start by making a contingency table.\n",
        "\n"
      ]
    },
    {
      "cell_type": "code",
      "execution_count": 153,
      "metadata": {
        "colab": {
          "base_uri": "https://localhost:8080/",
          "height": 394
        },
        "id": "8HriPDyNLREe",
        "outputId": "d572fc0c-07de-43ec-d597-041d9c7a4f05"
      },
      "outputs": [
        {
          "data": {
            "application/vnd.google.colaboratory.intrinsic+json": {
              "summary": "{\n  \"name\": \"contingency_table\",\n  \"rows\": 10,\n  \"fields\": [\n    {\n      \"column\": \"Target\",\n      \"properties\": {\n        \"dtype\": \"string\",\n        \"num_unique_values\": 10,\n        \"samples\": [\n          \"School\",\n          \"Ex-Person(s)\",\n          \"Race/Religion\"\n        ],\n        \"semantic_type\": \"\",\n        \"description\": \"\"\n      }\n    },\n    {\n      \"column\": \"No\",\n      \"properties\": {\n        \"dtype\": \"number\",\n        \"std\": 11,\n        \"min\": 0,\n        \"max\": 37,\n        \"num_unique_values\": 8,\n        \"samples\": [\n          7,\n          37,\n          0\n        ],\n        \"semantic_type\": \"\",\n        \"description\": \"\"\n      }\n    },\n    {\n      \"column\": \"Yes\",\n      \"properties\": {\n        \"dtype\": \"number\",\n        \"std\": 12,\n        \"min\": 1,\n        \"max\": 43,\n        \"num_unique_values\": 8,\n        \"samples\": [\n          14,\n          43,\n          2\n        ],\n        \"semantic_type\": \"\",\n        \"description\": \"\"\n      }\n    }\n  ]\n}",
              "type": "dataframe",
              "variable_name": "contingency_table"
            },
            "text/html": [
              "\n",
              "  <div id=\"df-2d14a83a-b9b0-43a0-a0e2-7759e18d0f58\" class=\"colab-df-container\">\n",
              "    <div>\n",
              "<style scoped>\n",
              "    .dataframe tbody tr th:only-of-type {\n",
              "        vertical-align: middle;\n",
              "    }\n",
              "\n",
              "    .dataframe tbody tr th {\n",
              "        vertical-align: top;\n",
              "    }\n",
              "\n",
              "    .dataframe thead th {\n",
              "        text-align: right;\n",
              "    }\n",
              "</style>\n",
              "<table border=\"1\" class=\"dataframe\">\n",
              "  <thead>\n",
              "    <tr style=\"text-align: right;\">\n",
              "      <th>Mental Health Issues</th>\n",
              "      <th>No</th>\n",
              "      <th>Yes</th>\n",
              "    </tr>\n",
              "    <tr>\n",
              "      <th>Target</th>\n",
              "      <th></th>\n",
              "      <th></th>\n",
              "    </tr>\n",
              "  </thead>\n",
              "  <tbody>\n",
              "    <tr>\n",
              "      <th>Children</th>\n",
              "      <td>0</td>\n",
              "      <td>2</td>\n",
              "    </tr>\n",
              "    <tr>\n",
              "      <th>Ex-Person(s)</th>\n",
              "      <td>7</td>\n",
              "      <td>14</td>\n",
              "    </tr>\n",
              "    <tr>\n",
              "      <th>Family</th>\n",
              "      <td>9</td>\n",
              "      <td>8</td>\n",
              "    </tr>\n",
              "    <tr>\n",
              "      <th>Government Employee(s)</th>\n",
              "      <td>4</td>\n",
              "      <td>6</td>\n",
              "    </tr>\n",
              "    <tr>\n",
              "      <th>Other</th>\n",
              "      <td>3</td>\n",
              "      <td>2</td>\n",
              "    </tr>\n",
              "    <tr>\n",
              "      <th>Race/Religion</th>\n",
              "      <td>3</td>\n",
              "      <td>1</td>\n",
              "    </tr>\n",
              "    <tr>\n",
              "      <th>Random</th>\n",
              "      <td>37</td>\n",
              "      <td>43</td>\n",
              "    </tr>\n",
              "    <tr>\n",
              "      <th>Relationship (non-familial)</th>\n",
              "      <td>15</td>\n",
              "      <td>10</td>\n",
              "    </tr>\n",
              "    <tr>\n",
              "      <th>School</th>\n",
              "      <td>13</td>\n",
              "      <td>19</td>\n",
              "    </tr>\n",
              "    <tr>\n",
              "      <th>Women</th>\n",
              "      <td>0</td>\n",
              "      <td>1</td>\n",
              "    </tr>\n",
              "  </tbody>\n",
              "</table>\n",
              "</div>\n",
              "    <div class=\"colab-df-buttons\">\n",
              "\n",
              "  <div class=\"colab-df-container\">\n",
              "    <button class=\"colab-df-convert\" onclick=\"convertToInteractive('df-2d14a83a-b9b0-43a0-a0e2-7759e18d0f58')\"\n",
              "            title=\"Convert this dataframe to an interactive table.\"\n",
              "            style=\"display:none;\">\n",
              "\n",
              "  <svg xmlns=\"http://www.w3.org/2000/svg\" height=\"24px\" viewBox=\"0 -960 960 960\">\n",
              "    <path d=\"M120-120v-720h720v720H120Zm60-500h600v-160H180v160Zm220 220h160v-160H400v160Zm0 220h160v-160H400v160ZM180-400h160v-160H180v160Zm440 0h160v-160H620v160ZM180-180h160v-160H180v160Zm440 0h160v-160H620v160Z\"/>\n",
              "  </svg>\n",
              "    </button>\n",
              "\n",
              "  <style>\n",
              "    .colab-df-container {\n",
              "      display:flex;\n",
              "      gap: 12px;\n",
              "    }\n",
              "\n",
              "    .colab-df-convert {\n",
              "      background-color: #E8F0FE;\n",
              "      border: none;\n",
              "      border-radius: 50%;\n",
              "      cursor: pointer;\n",
              "      display: none;\n",
              "      fill: #1967D2;\n",
              "      height: 32px;\n",
              "      padding: 0 0 0 0;\n",
              "      width: 32px;\n",
              "    }\n",
              "\n",
              "    .colab-df-convert:hover {\n",
              "      background-color: #E2EBFA;\n",
              "      box-shadow: 0px 1px 2px rgba(60, 64, 67, 0.3), 0px 1px 3px 1px rgba(60, 64, 67, 0.15);\n",
              "      fill: #174EA6;\n",
              "    }\n",
              "\n",
              "    .colab-df-buttons div {\n",
              "      margin-bottom: 4px;\n",
              "    }\n",
              "\n",
              "    [theme=dark] .colab-df-convert {\n",
              "      background-color: #3B4455;\n",
              "      fill: #D2E3FC;\n",
              "    }\n",
              "\n",
              "    [theme=dark] .colab-df-convert:hover {\n",
              "      background-color: #434B5C;\n",
              "      box-shadow: 0px 1px 3px 1px rgba(0, 0, 0, 0.15);\n",
              "      filter: drop-shadow(0px 1px 2px rgba(0, 0, 0, 0.3));\n",
              "      fill: #FFFFFF;\n",
              "    }\n",
              "  </style>\n",
              "\n",
              "    <script>\n",
              "      const buttonEl =\n",
              "        document.querySelector('#df-2d14a83a-b9b0-43a0-a0e2-7759e18d0f58 button.colab-df-convert');\n",
              "      buttonEl.style.display =\n",
              "        google.colab.kernel.accessAllowed ? 'block' : 'none';\n",
              "\n",
              "      async function convertToInteractive(key) {\n",
              "        const element = document.querySelector('#df-2d14a83a-b9b0-43a0-a0e2-7759e18d0f58');\n",
              "        const dataTable =\n",
              "          await google.colab.kernel.invokeFunction('convertToInteractive',\n",
              "                                                    [key], {});\n",
              "        if (!dataTable) return;\n",
              "\n",
              "        const docLinkHtml = 'Like what you see? Visit the ' +\n",
              "          '<a target=\"_blank\" href=https://colab.research.google.com/notebooks/data_table.ipynb>data table notebook</a>'\n",
              "          + ' to learn more about interactive tables.';\n",
              "        element.innerHTML = '';\n",
              "        dataTable['output_type'] = 'display_data';\n",
              "        await google.colab.output.renderOutput(dataTable, element);\n",
              "        const docLink = document.createElement('div');\n",
              "        docLink.innerHTML = docLinkHtml;\n",
              "        element.appendChild(docLink);\n",
              "      }\n",
              "    </script>\n",
              "  </div>\n",
              "\n",
              "\n",
              "<div id=\"df-546ca518-e5a8-4848-9030-dbdedfd8be79\">\n",
              "  <button class=\"colab-df-quickchart\" onclick=\"quickchart('df-546ca518-e5a8-4848-9030-dbdedfd8be79')\"\n",
              "            title=\"Suggest charts\"\n",
              "            style=\"display:none;\">\n",
              "\n",
              "<svg xmlns=\"http://www.w3.org/2000/svg\" height=\"24px\"viewBox=\"0 0 24 24\"\n",
              "     width=\"24px\">\n",
              "    <g>\n",
              "        <path d=\"M19 3H5c-1.1 0-2 .9-2 2v14c0 1.1.9 2 2 2h14c1.1 0 2-.9 2-2V5c0-1.1-.9-2-2-2zM9 17H7v-7h2v7zm4 0h-2V7h2v10zm4 0h-2v-4h2v4z\"/>\n",
              "    </g>\n",
              "</svg>\n",
              "  </button>\n",
              "\n",
              "<style>\n",
              "  .colab-df-quickchart {\n",
              "      --bg-color: #E8F0FE;\n",
              "      --fill-color: #1967D2;\n",
              "      --hover-bg-color: #E2EBFA;\n",
              "      --hover-fill-color: #174EA6;\n",
              "      --disabled-fill-color: #AAA;\n",
              "      --disabled-bg-color: #DDD;\n",
              "  }\n",
              "\n",
              "  [theme=dark] .colab-df-quickchart {\n",
              "      --bg-color: #3B4455;\n",
              "      --fill-color: #D2E3FC;\n",
              "      --hover-bg-color: #434B5C;\n",
              "      --hover-fill-color: #FFFFFF;\n",
              "      --disabled-bg-color: #3B4455;\n",
              "      --disabled-fill-color: #666;\n",
              "  }\n",
              "\n",
              "  .colab-df-quickchart {\n",
              "    background-color: var(--bg-color);\n",
              "    border: none;\n",
              "    border-radius: 50%;\n",
              "    cursor: pointer;\n",
              "    display: none;\n",
              "    fill: var(--fill-color);\n",
              "    height: 32px;\n",
              "    padding: 0;\n",
              "    width: 32px;\n",
              "  }\n",
              "\n",
              "  .colab-df-quickchart:hover {\n",
              "    background-color: var(--hover-bg-color);\n",
              "    box-shadow: 0 1px 2px rgba(60, 64, 67, 0.3), 0 1px 3px 1px rgba(60, 64, 67, 0.15);\n",
              "    fill: var(--button-hover-fill-color);\n",
              "  }\n",
              "\n",
              "  .colab-df-quickchart-complete:disabled,\n",
              "  .colab-df-quickchart-complete:disabled:hover {\n",
              "    background-color: var(--disabled-bg-color);\n",
              "    fill: var(--disabled-fill-color);\n",
              "    box-shadow: none;\n",
              "  }\n",
              "\n",
              "  .colab-df-spinner {\n",
              "    border: 2px solid var(--fill-color);\n",
              "    border-color: transparent;\n",
              "    border-bottom-color: var(--fill-color);\n",
              "    animation:\n",
              "      spin 1s steps(1) infinite;\n",
              "  }\n",
              "\n",
              "  @keyframes spin {\n",
              "    0% {\n",
              "      border-color: transparent;\n",
              "      border-bottom-color: var(--fill-color);\n",
              "      border-left-color: var(--fill-color);\n",
              "    }\n",
              "    20% {\n",
              "      border-color: transparent;\n",
              "      border-left-color: var(--fill-color);\n",
              "      border-top-color: var(--fill-color);\n",
              "    }\n",
              "    30% {\n",
              "      border-color: transparent;\n",
              "      border-left-color: var(--fill-color);\n",
              "      border-top-color: var(--fill-color);\n",
              "      border-right-color: var(--fill-color);\n",
              "    }\n",
              "    40% {\n",
              "      border-color: transparent;\n",
              "      border-right-color: var(--fill-color);\n",
              "      border-top-color: var(--fill-color);\n",
              "    }\n",
              "    60% {\n",
              "      border-color: transparent;\n",
              "      border-right-color: var(--fill-color);\n",
              "    }\n",
              "    80% {\n",
              "      border-color: transparent;\n",
              "      border-right-color: var(--fill-color);\n",
              "      border-bottom-color: var(--fill-color);\n",
              "    }\n",
              "    90% {\n",
              "      border-color: transparent;\n",
              "      border-bottom-color: var(--fill-color);\n",
              "    }\n",
              "  }\n",
              "</style>\n",
              "\n",
              "  <script>\n",
              "    async function quickchart(key) {\n",
              "      const quickchartButtonEl =\n",
              "        document.querySelector('#' + key + ' button');\n",
              "      quickchartButtonEl.disabled = true;  // To prevent multiple clicks.\n",
              "      quickchartButtonEl.classList.add('colab-df-spinner');\n",
              "      try {\n",
              "        const charts = await google.colab.kernel.invokeFunction(\n",
              "            'suggestCharts', [key], {});\n",
              "      } catch (error) {\n",
              "        console.error('Error during call to suggestCharts:', error);\n",
              "      }\n",
              "      quickchartButtonEl.classList.remove('colab-df-spinner');\n",
              "      quickchartButtonEl.classList.add('colab-df-quickchart-complete');\n",
              "    }\n",
              "    (() => {\n",
              "      let quickchartButtonEl =\n",
              "        document.querySelector('#df-546ca518-e5a8-4848-9030-dbdedfd8be79 button');\n",
              "      quickchartButtonEl.style.display =\n",
              "        google.colab.kernel.accessAllowed ? 'block' : 'none';\n",
              "    })();\n",
              "  </script>\n",
              "</div>\n",
              "    </div>\n",
              "  </div>\n"
            ],
            "text/plain": [
              "Mental Health Issues         No  Yes\n",
              "Target                              \n",
              "Children                      0    2\n",
              "Ex-Person(s)                  7   14\n",
              "Family                        9    8\n",
              "Government Employee(s)        4    6\n",
              "Other                         3    2\n",
              "Race/Religion                 3    1\n",
              "Random                       37   43\n",
              "Relationship (non-familial)  15   10\n",
              "School                       13   19\n",
              "Women                         0    1"
            ]
          },
          "execution_count": 153,
          "metadata": {},
          "output_type": "execute_result"
        }
      ],
      "source": [
        "new_df = us_mass_shootings[(us_mass_shootings['Mental Health Issues'] == 'Yes') | (us_mass_shootings['Mental Health Issues'] == 'No')]\n",
        "\n",
        "contingency_table = pd.crosstab(new_df['Target'], new_df['Mental Health Issues'])\n",
        "contingency_table"
      ]
    },
    {
      "cell_type": "markdown",
      "metadata": {
        "id": "vbUV5lZ1MwDU"
      },
      "source": [
        "> Now that I have that, I will plot it using a bar graph to show the relationship between the different categories and mental health issues."
      ]
    },
    {
      "cell_type": "code",
      "execution_count": 154,
      "metadata": {
        "colab": {
          "base_uri": "https://localhost:8080/",
          "height": 640
        },
        "id": "Hmys7Nw8NOB_",
        "outputId": "11b645d9-6597-4e7b-f3f0-6a5008785779"
      },
      "outputs": [
        {
          "data": {
            "image/png": "[encoded data removed]",
            "text/plain": [
              "<Figure size 640x480 with 1 Axes>"
            ]
          },
          "metadata": {},
          "output_type": "display_data"
        }
      ],
      "source": [
        "plot = contingency_table.plot(kind='bar', title='Relationship Between Target and Mental Health Issues')"
      ]
    },
    {
      "cell_type": "markdown",
      "metadata": {
        "id": "PAJRxenWUixx"
      },
      "source": [
        "> Now I will obtain the p-value in order to see if I can reject or fail to reject the null hypothesis."
      ]
    },
    {
      "cell_type": "code",
      "execution_count": 84,
      "metadata": {
        "colab": {
          "base_uri": "https://localhost:8080/"
        },
        "id": "cV9LKXrpVB90",
        "outputId": "1b9bb140-ae23-416a-92f1-5b7f5b8d0298"
      },
      "outputs": [
        {
          "data": {
            "text/plain": [
              "0.48715665898535343"
            ]
          },
          "execution_count": 84,
          "metadata": {},
          "output_type": "execute_result"
        }
      ],
      "source": [
        "chi2, p_value, dof, ex = chi2_contingency(contingency_table)\n",
        "p_value"
      ]
    },
    {
      "cell_type": "markdown",
      "metadata": {
        "id": "AmSROmPxVOWR"
      },
      "source": [
        "**Analysis & Conclusion**:\n",
        "\n",
        "> As you can see the p-value is greater than the alpha(.05) so I fail to reject the null hypothesis. This means that there is no direct relation between the target and if the shooter has mental health issues. I expected to be able to reject the null hypothesis, so this is surprising. When doing the final deliverable for this project I will try to find more data about the relationship between mass shootings and mental health since I do find this part of the issue to be very important."
      ]
    },
    {
      "cell_type": "markdown",
      "metadata": {
        "id": "cYHVH0NAbIHh"
      },
      "source": [
        "# Statistical Test #2\n",
        "\n",
        "**Mann-Whitney U**"
      ]
    },
    {
      "cell_type": "markdown",
      "metadata": {
        "id": "NM9Vbj4sXafQ"
      },
      "source": [
        "I want to see if the location being opened or closed has an affect on the amount of injuries. In order to do this I will use Mann-Whitney U since the  groups are independent and not normally distributed.\n",
        "\n",
        "First I will define our hypothesis:\n",
        "\n",
        "*   **HO:** The location being opened or closed has no affect on the amount of injuries.\n",
        "*   **HA:** The location being opened or closed has an affect on the amount of injuries.\n",
        "\n",
        "> Now I will start by seperating the opened and closed locations and their total injuries\n"
      ]
    },
    {
      "cell_type": "code",
      "execution_count": 155,
      "metadata": {
        "id": "9Qfvh7REYx8-"
      },
      "outputs": [],
      "source": [
        "open_location = us_mass_shootings[us_mass_shootings['Open/Close Location'] == 'Open']['Total Victims']\n",
        "closed_location = us_mass_shootings[us_mass_shootings['Open/Close Location'] == 'Close']['Total Victims']"
      ]
    },
    {
      "cell_type": "markdown",
      "metadata": {
        "id": "QSh2SLj9j2Vb"
      },
      "source": [
        "> Now I will create a Box-Plot to compare the data."
      ]
    },
    {
      "cell_type": "code",
      "execution_count": 156,
      "metadata": {
        "colab": {
          "base_uri": "https://localhost:8080/",
          "height": 472
        },
        "id": "Fd7ZzbkJfFpF",
        "outputId": "0eff65cc-b0b2-4c2d-a06a-d2c8c8e0d801"
      },
      "outputs": [
        {
          "data": {
            "image/png": "[encoded data removed]",
            "text/plain": [
              "<Figure size 640x480 with 1 Axes>"
            ]
          },
          "metadata": {},
          "output_type": "display_data"
        }
      ],
      "source": [
        "plt.xlabel('Open/Close Location')\n",
        "plt.ylabel('Total Victims')\n",
        "plt.title('Boxplot of Total Victims by Open/Close Location')\n",
        "plt.boxplot([us_mass_shootings[us_mass_shootings['Open/Close Location'] == 'Open']['Total Victims'], us_mass_shootings[us_mass_shootings['Open/Close Location'] == 'Close']['Total Victims']],\n",
        "            labels=['Open', 'Closed'])\n",
        "\n",
        "plt.show()"
      ]
    },
    {
      "cell_type": "markdown",
      "metadata": {
        "id": "R97jMjmekNk4"
      },
      "source": [
        "> There are some pretty high outliers which may affect the distribution of the data, but I want to zoom in a little bit so that I can actually see the box plots."
      ]
    },
    {
      "cell_type": "code",
      "execution_count": 157,
      "metadata": {
        "colab": {
          "base_uri": "https://localhost:8080/",
          "height": 435
        },
        "id": "jYnqgncykbvh",
        "outputId": "8843c5d8-78d0-4749-cdda-97fb3ab67dc1"
      },
      "outputs": [
        {
          "data": {
            "image/png": "[encoded data removed]",
            "text/plain": [
              "<Figure size 640x480 with 1 Axes>"
            ]
          },
          "metadata": {},
          "output_type": "display_data"
        }
      ],
      "source": [
        "plt.boxplot([us_mass_shootings[us_mass_shootings['Open/Close Location'] == 'Open']['Total Victims'], us_mass_shootings[us_mass_shootings['Open/Close Location'] == 'Close']['Total Victims']],\n",
        "            labels=['Open', 'Closed'])\n",
        "plt.ylim(0,50)\n",
        "plt.show()"
      ]
    },
    {
      "cell_type": "markdown",
      "metadata": {
        "id": "imlHePy-k3qY"
      },
      "source": [
        "> In the box plots they both are right skewed, so on average both open and closed locations are greater than their medians. The open location box plot is probably more skewed because it has much higher outliers than the closed location."
      ]
    },
    {
      "cell_type": "markdown",
      "metadata": {
        "id": "Kt_HHGdOcOiP"
      },
      "source": [
        "> Now I will obtain the p-value to see if I can reject or fail to reject the null hypothesis.\n",
        "\n"
      ]
    },
    {
      "cell_type": "code",
      "execution_count": 146,
      "metadata": {
        "colab": {
          "base_uri": "https://localhost:8080/"
        },
        "id": "Uzvz-jhBeaWg",
        "outputId": "4211cea5-b48c-4237-e826-cd44a31170b1"
      },
      "outputs": [
        {
          "data": {
            "text/plain": [
              "0.03603286133592586"
            ]
          },
          "execution_count": 146,
          "metadata": {},
          "output_type": "execute_result"
        }
      ],
      "source": [
        "statistic, p_value = mannwhitneyu(open_location, closed_location)\n",
        "\n",
        "p_value"
      ]
    },
    {
      "cell_type": "markdown",
      "metadata": {
        "id": "fVsE86VKmo1P"
      },
      "source": [
        "> **Analysis & Conclusion:** The\n",
        "p-value is less than the alpha (.05) so we can reject the null hypothesis. Since I can reject the null hypothesis, I can now try to explore what that affect may be, as in which one has greater or less total victims. This is something I can explore and go deeper into for the final deliverable."
      ]
    },
    {
      "cell_type": "markdown",
      "metadata": {
        "id": "pox2yG-2p3SB"
      },
      "source": [
        "# Statistical Test #3\n",
        "\n",
        "**ANOVA/Kruskal Test**"
      ]
    },
    {
      "cell_type": "markdown",
      "metadata": {
        "id": "F1pWrBYJuWNc"
      },
      "source": [
        "> For this test I want to compare the causes to each other in relation to how many total victims they each have. In order to do this I will create a bar graph that compares the average number of victims in each seperate."
      ]
    },
    {
      "cell_type": "code",
      "execution_count": 158,
      "metadata": {
        "colab": {
          "base_uri": "https://localhost:8080/",
          "height": 425
        },
        "id": "G9W7eRAjvTrn",
        "outputId": "31e97f6f-195c-4ed1-e51d-f2b727f65838"
      },
      "outputs": [
        {
          "data": {
            "application/vnd.google.colaboratory.intrinsic+json": {
              "summary": "{\n  \"name\": \"averages\",\n  \"rows\": 12,\n  \"fields\": [\n    {\n      \"column\": \"Cause\",\n      \"properties\": {\n        \"dtype\": \"string\",\n        \"num_unique_values\": 12,\n        \"samples\": [\n          \"unemployement\",\n          \"terrorism\",\n          \"anger\"\n        ],\n        \"semantic_type\": \"\",\n        \"description\": \"\"\n      }\n    },\n    {\n      \"column\": \"Average Total Victims\",\n      \"properties\": {\n        \"dtype\": \"number\",\n        \"std\": 2.974518699417574,\n        \"min\": 3.9285714285714284,\n        \"max\": 14.209876543209877,\n        \"num_unique_values\": 9,\n        \"samples\": [\n          10.3,\n          3.9285714285714284,\n          6.25\n        ],\n        \"semantic_type\": \"\",\n        \"description\": \"\"\n      }\n    }\n  ]\n}",
              "type": "dataframe",
              "variable_name": "averages"
            },
            "text/html": [
              "\n",
              "  <div id=\"df-36c96481-6643-483e-89ae-87331ad19b52\" class=\"colab-df-container\">\n",
              "    <div>\n",
              "<style scoped>\n",
              "    .dataframe tbody tr th:only-of-type {\n",
              "        vertical-align: middle;\n",
              "    }\n",
              "\n",
              "    .dataframe tbody tr th {\n",
              "        vertical-align: top;\n",
              "    }\n",
              "\n",
              "    .dataframe thead th {\n",
              "        text-align: right;\n",
              "    }\n",
              "</style>\n",
              "<table border=\"1\" class=\"dataframe\">\n",
              "  <thead>\n",
              "    <tr style=\"text-align: right;\">\n",
              "      <th></th>\n",
              "      <th>Cause</th>\n",
              "      <th>Average Total Victims</th>\n",
              "    </tr>\n",
              "  </thead>\n",
              "  <tbody>\n",
              "    <tr>\n",
              "      <th>0</th>\n",
              "      <td>anger</td>\n",
              "      <td>6.290323</td>\n",
              "    </tr>\n",
              "    <tr>\n",
              "      <th>1</th>\n",
              "      <td>domestic</td>\n",
              "      <td>3.928571</td>\n",
              "    </tr>\n",
              "    <tr>\n",
              "      <th>2</th>\n",
              "      <td>drunk</td>\n",
              "      <td>9.000000</td>\n",
              "    </tr>\n",
              "    <tr>\n",
              "      <th>3</th>\n",
              "      <td>psycho</td>\n",
              "      <td>8.441176</td>\n",
              "    </tr>\n",
              "    <tr>\n",
              "      <th>4</th>\n",
              "      <td>racism</td>\n",
              "      <td>9.000000</td>\n",
              "    </tr>\n",
              "    <tr>\n",
              "      <th>5</th>\n",
              "      <td>religious radicalism</td>\n",
              "      <td>9.000000</td>\n",
              "    </tr>\n",
              "    <tr>\n",
              "      <th>6</th>\n",
              "      <td>revenge</td>\n",
              "      <td>6.100000</td>\n",
              "    </tr>\n",
              "    <tr>\n",
              "      <th>7</th>\n",
              "      <td>robbery</td>\n",
              "      <td>9.000000</td>\n",
              "    </tr>\n",
              "    <tr>\n",
              "      <th>8</th>\n",
              "      <td>school</td>\n",
              "      <td>6.250000</td>\n",
              "    </tr>\n",
              "    <tr>\n",
              "      <th>9</th>\n",
              "      <td>terrorism</td>\n",
              "      <td>13.461538</td>\n",
              "    </tr>\n",
              "    <tr>\n",
              "      <th>10</th>\n",
              "      <td>unemployement</td>\n",
              "      <td>10.300000</td>\n",
              "    </tr>\n",
              "    <tr>\n",
              "      <th>11</th>\n",
              "      <td>unknown</td>\n",
              "      <td>14.209877</td>\n",
              "    </tr>\n",
              "  </tbody>\n",
              "</table>\n",
              "</div>\n",
              "    <div class=\"colab-df-buttons\">\n",
              "\n",
              "  <div class=\"colab-df-container\">\n",
              "    <button class=\"colab-df-convert\" onclick=\"convertToInteractive('df-36c96481-6643-483e-89ae-87331ad19b52')\"\n",
              "            title=\"Convert this dataframe to an interactive table.\"\n",
              "            style=\"display:none;\">\n",
              "\n",
              "  <svg xmlns=\"http://www.w3.org/2000/svg\" height=\"24px\" viewBox=\"0 -960 960 960\">\n",
              "    <path d=\"M120-120v-720h720v720H120Zm60-500h600v-160H180v160Zm220 220h160v-160H400v160Zm0 220h160v-160H400v160ZM180-400h160v-160H180v160Zm440 0h160v-160H620v160ZM180-180h160v-160H180v160Zm440 0h160v-160H620v160Z\"/>\n",
              "  </svg>\n",
              "    </button>\n",
              "\n",
              "  <style>\n",
              "    .colab-df-container {\n",
              "      display:flex;\n",
              "      gap: 12px;\n",
              "    }\n",
              "\n",
              "    .colab-df-convert {\n",
              "      background-color: #E8F0FE;\n",
              "      border: none;\n",
              "      border-radius: 50%;\n",
              "      cursor: pointer;\n",
              "      display: none;\n",
              "      fill: #1967D2;\n",
              "      height: 32px;\n",
              "      padding: 0 0 0 0;\n",
              "      width: 32px;\n",
              "    }\n",
              "\n",
              "    .colab-df-convert:hover {\n",
              "      background-color: #E2EBFA;\n",
              "      box-shadow: 0px 1px 2px rgba(60, 64, 67, 0.3), 0px 1px 3px 1px rgba(60, 64, 67, 0.15);\n",
              "      fill: #174EA6;\n",
              "    }\n",
              "\n",
              "    .colab-df-buttons div {\n",
              "      margin-bottom: 4px;\n",
              "    }\n",
              "\n",
              "    [theme=dark] .colab-df-convert {\n",
              "      background-color: #3B4455;\n",
              "      fill: #D2E3FC;\n",
              "    }\n",
              "\n",
              "    [theme=dark] .colab-df-convert:hover {\n",
              "      background-color: #434B5C;\n",
              "      box-shadow: 0px 1px 3px 1px rgba(0, 0, 0, 0.15);\n",
              "      filter: drop-shadow(0px 1px 2px rgba(0, 0, 0, 0.3));\n",
              "      fill: #FFFFFF;\n",
              "    }\n",
              "  </style>\n",
              "\n",
              "    <script>\n",
              "      const buttonEl =\n",
              "        document.querySelector('#df-36c96481-6643-483e-89ae-87331ad19b52 button.colab-df-convert');\n",
              "      buttonEl.style.display =\n",
              "        google.colab.kernel.accessAllowed ? 'block' : 'none';\n",
              "\n",
              "      async function convertToInteractive(key) {\n",
              "        const element = document.querySelector('#df-36c96481-6643-483e-89ae-87331ad19b52');\n",
              "        const dataTable =\n",
              "          await google.colab.kernel.invokeFunction('convertToInteractive',\n",
              "                                                    [key], {});\n",
              "        if (!dataTable) return;\n",
              "\n",
              "        const docLinkHtml = 'Like what you see? Visit the ' +\n",
              "          '<a target=\"_blank\" href=https://colab.research.google.com/notebooks/data_table.ipynb>data table notebook</a>'\n",
              "          + ' to learn more about interactive tables.';\n",
              "        element.innerHTML = '';\n",
              "        dataTable['output_type'] = 'display_data';\n",
              "        await google.colab.output.renderOutput(dataTable, element);\n",
              "        const docLink = document.createElement('div');\n",
              "        docLink.innerHTML = docLinkHtml;\n",
              "        element.appendChild(docLink);\n",
              "      }\n",
              "    </script>\n",
              "  </div>\n",
              "\n",
              "\n",
              "<div id=\"df-d66057b4-fb7d-422e-a88d-08f2c5b4b082\">\n",
              "  <button class=\"colab-df-quickchart\" onclick=\"quickchart('df-d66057b4-fb7d-422e-a88d-08f2c5b4b082')\"\n",
              "            title=\"Suggest charts\"\n",
              "            style=\"display:none;\">\n",
              "\n",
              "<svg xmlns=\"http://www.w3.org/2000/svg\" height=\"24px\"viewBox=\"0 0 24 24\"\n",
              "     width=\"24px\">\n",
              "    <g>\n",
              "        <path d=\"M19 3H5c-1.1 0-2 .9-2 2v14c0 1.1.9 2 2 2h14c1.1 0 2-.9 2-2V5c0-1.1-.9-2-2-2zM9 17H7v-7h2v7zm4 0h-2V7h2v10zm4 0h-2v-4h2v4z\"/>\n",
              "    </g>\n",
              "</svg>\n",
              "  </button>\n",
              "\n",
              "<style>\n",
              "  .colab-df-quickchart {\n",
              "      --bg-color: #E8F0FE;\n",
              "      --fill-color: #1967D2;\n",
              "      --hover-bg-color: #E2EBFA;\n",
              "      --hover-fill-color: #174EA6;\n",
              "      --disabled-fill-color: #AAA;\n",
              "      --disabled-bg-color: #DDD;\n",
              "  }\n",
              "\n",
              "  [theme=dark] .colab-df-quickchart {\n",
              "      --bg-color: #3B4455;\n",
              "      --fill-color: #D2E3FC;\n",
              "      --hover-bg-color: #434B5C;\n",
              "      --hover-fill-color: #FFFFFF;\n",
              "      --disabled-bg-color: #3B4455;\n",
              "      --disabled-fill-color: #666;\n",
              "  }\n",
              "\n",
              "  .colab-df-quickchart {\n",
              "    background-color: var(--bg-color);\n",
              "    border: none;\n",
              "    border-radius: 50%;\n",
              "    cursor: pointer;\n",
              "    display: none;\n",
              "    fill: var(--fill-color);\n",
              "    height: 32px;\n",
              "    padding: 0;\n",
              "    width: 32px;\n",
              "  }\n",
              "\n",
              "  .colab-df-quickchart:hover {\n",
              "    background-color: var(--hover-bg-color);\n",
              "    box-shadow: 0 1px 2px rgba(60, 64, 67, 0.3), 0 1px 3px 1px rgba(60, 64, 67, 0.15);\n",
              "    fill: var(--button-hover-fill-color);\n",
              "  }\n",
              "\n",
              "  .colab-df-quickchart-complete:disabled,\n",
              "  .colab-df-quickchart-complete:disabled:hover {\n",
              "    background-color: var(--disabled-bg-color);\n",
              "    fill: var(--disabled-fill-color);\n",
              "    box-shadow: none;\n",
              "  }\n",
              "\n",
              "  .colab-df-spinner {\n",
              "    border: 2px solid var(--fill-color);\n",
              "    border-color: transparent;\n",
              "    border-bottom-color: var(--fill-color);\n",
              "    animation:\n",
              "      spin 1s steps(1) infinite;\n",
              "  }\n",
              "\n",
              "  @keyframes spin {\n",
              "    0% {\n",
              "      border-color: transparent;\n",
              "      border-bottom-color: var(--fill-color);\n",
              "      border-left-color: var(--fill-color);\n",
              "    }\n",
              "    20% {\n",
              "      border-color: transparent;\n",
              "      border-left-color: var(--fill-color);\n",
              "      border-top-color: var(--fill-color);\n",
              "    }\n",
              "    30% {\n",
              "      border-color: transparent;\n",
              "      border-left-color: var(--fill-color);\n",
              "      border-top-color: var(--fill-color);\n",
              "      border-right-color: var(--fill-color);\n",
              "    }\n",
              "    40% {\n",
              "      border-color: transparent;\n",
              "      border-right-color: var(--fill-color);\n",
              "      border-top-color: var(--fill-color);\n",
              "    }\n",
              "    60% {\n",
              "      border-color: transparent;\n",
              "      border-right-color: var(--fill-color);\n",
              "    }\n",
              "    80% {\n",
              "      border-color: transparent;\n",
              "      border-right-color: var(--fill-color);\n",
              "      border-bottom-color: var(--fill-color);\n",
              "    }\n",
              "    90% {\n",
              "      border-color: transparent;\n",
              "      border-bottom-color: var(--fill-color);\n",
              "    }\n",
              "  }\n",
              "</style>\n",
              "\n",
              "  <script>\n",
              "    async function quickchart(key) {\n",
              "      const quickchartButtonEl =\n",
              "        document.querySelector('#' + key + ' button');\n",
              "      quickchartButtonEl.disabled = true;  // To prevent multiple clicks.\n",
              "      quickchartButtonEl.classList.add('colab-df-spinner');\n",
              "      try {\n",
              "        const charts = await google.colab.kernel.invokeFunction(\n",
              "            'suggestCharts', [key], {});\n",
              "      } catch (error) {\n",
              "        console.error('Error during call to suggestCharts:', error);\n",
              "      }\n",
              "      quickchartButtonEl.classList.remove('colab-df-spinner');\n",
              "      quickchartButtonEl.classList.add('colab-df-quickchart-complete');\n",
              "    }\n",
              "    (() => {\n",
              "      let quickchartButtonEl =\n",
              "        document.querySelector('#df-d66057b4-fb7d-422e-a88d-08f2c5b4b082 button');\n",
              "      quickchartButtonEl.style.display =\n",
              "        google.colab.kernel.accessAllowed ? 'block' : 'none';\n",
              "    })();\n",
              "  </script>\n",
              "</div>\n",
              "    </div>\n",
              "  </div>\n"
            ],
            "text/plain": [
              "                   Cause  Average Total Victims\n",
              "0                  anger               6.290323\n",
              "1               domestic               3.928571\n",
              "2                  drunk               9.000000\n",
              "3                 psycho               8.441176\n",
              "4                 racism               9.000000\n",
              "5   religious radicalism               9.000000\n",
              "6                revenge               6.100000\n",
              "7                robbery               9.000000\n",
              "8                 school               6.250000\n",
              "9              terrorism              13.461538\n",
              "10         unemployement              10.300000\n",
              "11               unknown              14.209877"
            ]
          },
          "execution_count": 158,
          "metadata": {},
          "output_type": "execute_result"
        }
      ],
      "source": [
        "averages = us_mass_shootings.groupby('Cause').agg({'Total Victims': 'mean'}).reset_index()\n",
        "averages.columns = ['Cause', 'Average Total Victims']\n",
        "\n",
        "averages"
      ]
    },
    {
      "cell_type": "markdown",
      "metadata": {
        "id": "QnXtQmK6xzQG"
      },
      "source": [
        "> Now I want to know what the overall mean is between the categories so that I can see how it the specific causes compare."
      ]
    },
    {
      "cell_type": "code",
      "execution_count": 148,
      "metadata": {
        "colab": {
          "base_uri": "https://localhost:8080/"
        },
        "id": "LVJajRLeyBcZ",
        "outputId": "8add6b51-a8f8-462d-fca8-e0da76886f51"
      },
      "outputs": [
        {
          "data": {
            "text/plain": [
              "8.748457123712763"
            ]
          },
          "execution_count": 148,
          "metadata": {},
          "output_type": "execute_result"
        }
      ],
      "source": [
        "causes_mean = averages['Average Total Victims'].mean()\n",
        "causes_mean"
      ]
    },
    {
      "cell_type": "markdown",
      "metadata": {
        "id": "0kZbjh4uyJ5H"
      },
      "source": [
        "> Now I am going to create a bar graph to compare the means of the cause with each other as well as with the overall mean."
      ]
    },
    {
      "cell_type": "code",
      "execution_count": 159,
      "metadata": {
        "colab": {
          "base_uri": "https://localhost:8080/",
          "height": 588
        },
        "id": "F-hG1nevyUwV",
        "outputId": "9b46e02c-798f-46f1-91df-7b6ebe131b86"
      },
      "outputs": [
        {
          "data": {
            "text/plain": [
              "<Axes: xlabel='Cause', ylabel='Average Total Victims'>"
            ]
          },
          "execution_count": 159,
          "metadata": {},
          "output_type": "execute_result"
        },
        {
          "data": {
            "image/png": "[encoded data removed]",
            "text/plain": [
              "<Figure size 640x480 with 1 Axes>"
            ]
          },
          "metadata": {},
          "output_type": "display_data"
        }
      ],
      "source": [
        "plot = averages.plot.bar(x='Cause', y='Average Total Victims')\n",
        "plt.axhline(y=causes_mean, color='r', linestyle='-')\n",
        "plt.ylabel('Average Total Victims')\n",
        "plot"
      ]
    },
    {
      "cell_type": "markdown",
      "metadata": {
        "id": "_lgWJeUPzqjR"
      },
      "source": [
        "> With this bar graph I can see the relationship between the different causes and how they differ from each other when it comes to the average amount of victims harmed. I can also compare that to the overall mean to see where they lie."
      ]
    },
    {
      "cell_type": "markdown",
      "metadata": {
        "id": "2j_RMl510HsI"
      },
      "source": [
        "> I think it would be good to do an ANOVA tests on this to see if there is a difference among the groups, but in order to do this we first have to make sure the data is normally distributed.\n",
        "\n",
        "\n",
        "\n",
        "*   **HO:** The means will be the same accross all groups, so the group has no affect on total victims.\n",
        "*   **HA:** The means won't be the same accross all groups, so the group has an affect on total victims.\n",
        "\n"
      ]
    },
    {
      "cell_type": "code",
      "execution_count": 160,
      "metadata": {
        "colab": {
          "base_uri": "https://localhost:8080/",
          "height": 881
        },
        "id": "xYrJRDRe0cM2",
        "outputId": "d92970b8-63cb-4dd8-dfce-c38b3acc5f2f"
      },
      "outputs": [
        {
          "data": {
            "image/png": "[encoded data removed]",
            "text/plain": [
              "<Figure size 640x480 with 1 Axes>"
            ]
          },
          "execution_count": 160,
          "metadata": {},
          "output_type": "execute_result"
        },
        {
          "data": {
            "image/png": "[encoded data removed]",
            "text/plain": [
              "<Figure size 640x480 with 1 Axes>"
            ]
          },
          "metadata": {},
          "output_type": "display_data"
        }
      ],
      "source": [
        "dist = us_mass_shootings[us_mass_shootings['Cause'] == 'anger']['Total Victims']\n",
        "sm.qqplot(dist)"
      ]
    },
    {
      "cell_type": "markdown",
      "metadata": {
        "id": "x9WsheGR1COb"
      },
      "source": [
        "> Since the points aren't in a straight line, I can assume the data isn't normally distributted, so I can't do an ANOVA test sadly. Instead, I will try a Kruskal-Wallis Test."
      ]
    },
    {
      "cell_type": "code",
      "execution_count": 161,
      "metadata": {
        "colab": {
          "base_uri": "https://localhost:8080/"
        },
        "id": "YPqRtZIy3OOh",
        "outputId": "2827a420-afb5-47de-f400-f16b4fa129e9"
      },
      "outputs": [
        {
          "data": {
            "text/plain": [
              "nan"
            ]
          },
          "execution_count": 161,
          "metadata": {},
          "output_type": "execute_result"
        }
      ],
      "source": [
        "anger = us_mass_shootings[us_mass_shootings['Cause'] == 'anger']['Total Victims']\n",
        "unemployement = us_mass_shootings[us_mass_shootings['Cause'] == 'unemployement']['Total Victims']\n",
        "racism = us_mass_shootings[us_mass_shootings['Cause'] == 'racism']['Total Victims']\n",
        "domestic =us_mass_shootings[us_mass_shootings['Cause'] == 'domestic dispute']['Total Victims']\n",
        "pyscho = us_mass_shootings[us_mass_shootings['Cause'] == 'psycho']['Total Victims']\n",
        "revenge = us_mass_shootings[us_mass_shootings['Cause'] == 'revenge']['Total Victims']\n",
        "school = us_mass_shootings[us_mass_shootings['Cause'] == 'school']['Total Victims']\n",
        "religious_radicalism = us_mass_shootings[us_mass_shootings['Cause'] == 'religious radicalism']['Total Victims']\n",
        "drunk = us_mass_shootings[us_mass_shootings['Cause'] == 'drunk']['Total Victims']\n",
        "robbery = us_mass_shootings[us_mass_shootings['Cause'] == 'robbery']['Total Victims']\n",
        "\n",
        "stat, p_value = kruskal(anger, unemployement, racism, domestic, pyscho, revenge, school, religious_radicalism, drunk, robbery)\n",
        "\n",
        "p_value"
      ]
    },
    {
      "cell_type": "markdown",
      "metadata": {
        "id": "aWQU4khQ6k-b"
      },
      "source": [
        "> **Analysis & Conclusion** The p-value I get is NaN, which I shouldn't be getting. I must be doing the test wrong, but don't have enough time to figure it out sadly. If the p_value was less than .05, then I could assume that the means are not equal, I could then do some Post-HOC test in order to determine the differences between causes. If it was greater than, then I'd say the means are the same."
      ]
    }
  ],
  "metadata": {
    "colab": {
      "collapsed_sections": [
        "6-ZcJL2JvmCs",
        "fM4GTlv0J04V",
        "cYHVH0NAbIHh"
      ],
      "provenance": []
    },
    "kernelspec": {
      "display_name": "Python 3",
      "name": "python3"
    },
    "language_info": {
      "name": "python"
    }
  },
  "nbformat": 4,
  "nbformat_minor": 0
}
